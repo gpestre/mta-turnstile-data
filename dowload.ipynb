{
 "cells": [
  {
   "cell_type": "code",
   "execution_count": null,
   "metadata": {
    "collapsed": true
   },
   "outputs": [],
   "source": [
    "# To handle dates:\n",
    "from datetime import date,time,datetime,timedelta\n",
    "\n",
    "# To handle webpage requests:\n",
    "import requests\n",
    "from lxml import html\n",
    "\n",
    "# To handle data:\n",
    "import numpy as np\n",
    "import pandas as pd\n",
    "\n",
    "# To preview HTML:\n",
    "from IPython.core.display import HTML\n"
   ]
  },
  {
   "cell_type": "code",
   "execution_count": null,
   "metadata": {
    "collapsed": true
   },
   "outputs": [],
   "source": [
    "# Get Turnstile Data landing page:\n",
    "session_requests = requests.session()\n",
    "url = 'http://web.mta.info/developers/turnstile.html'\n",
    "page_result = session_requests.get(\n",
    "    url, \n",
    "    headers = dict(referer = url)\n",
    ")\n",
    "page_tree = html.fromstring(page_result.content)\n"
   ]
  },
  {
   "cell_type": "code",
   "execution_count": null,
   "metadata": {
    "collapsed": true
   },
   "outputs": [],
   "source": [
    "# Get list of data files available for download:\n",
    "data_files = []\n",
    "for a in page_tree.xpath(\"//h2[contains(string(),'Data Files')]\")[0].getparent().findall(\"a\"):\n",
    "    data_label = a.text\n",
    "    data_date = datetime.strptime(data_label,\"%A, %B %d, %Y\").date()\n",
    "    data_url = \"http://web.mta.info/developers/\" + a.attrib['href']\n",
    "    data_files.append({'label':data_label,'date':data_date,'url':data_url})\n",
    "data_files = pd.DataFrame(data_files,columns=['label','date','url'])\n",
    "data_files\n"
   ]
  },
  {
   "cell_type": "code",
   "execution_count": null,
   "metadata": {
    "collapsed": true
   },
   "outputs": [],
   "source": [
    "# Filter to only 2018 data:\n",
    "#data_files = data_files[data_files['date']>=datetime(2018,1,1).date()]\n"
   ]
  },
  {
   "cell_type": "code",
   "execution_count": null,
   "metadata": {
    "collapsed": true
   },
   "outputs": [],
   "source": [
    "# Download each data file:\n",
    "for i,row in data_files.iterrows():\n",
    "    \n",
    "    data_csv = session_requests.get(\n",
    "        row['url'], \n",
    "        headers = dict(referer = row['url'])\n",
    "    ).text\n",
    "    \n",
    "    data_date = row['date'].strftime(\"%Y-%m-%d\")\n",
    "    data_filepath = 'data/mta-turnstile-data_{}.csv'.format(data_date)\n",
    "    with open(data_filepath,'w') as f:\n",
    "        f.write(data_csv+\"\\n\")\n",
    "    print(\"Saved : {}\".format(data_filepath))\n",
    "    \n",
    "    now_date = datetime.now().strftime(\"%Y-%m-%d %H:%M:%S\")\n",
    "    with open('data/download-log.txt','a') as log:\n",
    "        log.write(\"{} : Downloaded mta-turnstile-data_{} .\\n\".format(now_date,data_date))\n",
    "    \n",
    "print(\"Done.\")\n"
   ]
  },
  {
   "cell_type": "code",
   "execution_count": null,
   "metadata": {
    "collapsed": true
   },
   "outputs": [],
   "source": []
  }
 ],
 "metadata": {
  "kernelspec": {
   "display_name": "Python [default]",
   "language": "python",
   "name": "python3"
  },
  "language_info": {
   "codemirror_mode": {
    "name": "ipython",
    "version": 3
   },
   "file_extension": ".py",
   "mimetype": "text/x-python",
   "name": "python",
   "nbconvert_exporter": "python",
   "pygments_lexer": "ipython3",
   "version": "3.6.1"
  }
 },
 "nbformat": 4,
 "nbformat_minor": 2
}
